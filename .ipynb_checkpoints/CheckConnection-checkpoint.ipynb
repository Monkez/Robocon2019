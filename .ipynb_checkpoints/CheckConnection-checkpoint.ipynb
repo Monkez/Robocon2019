{
 "cells": [
  {
   "cell_type": "code",
   "execution_count": 6,
   "metadata": {
    "scrolled": true
   },
   "outputs": [
    {
     "name": "stdout",
     "output_type": "stream",
     "text": [
      "Connected to arduino: 2\n",
      "Connected to arduino: 3\n",
      "check_begin!\n"
     ]
    }
   ],
   "source": [
    "import serial\n",
    "import config as cf\n",
    "import time\n",
    "import threading\n",
    "\n",
    "cf.ser = [None, None]\n",
    "stt = 0\n",
    "for i in range(5):\n",
    "    try:\n",
    "        port = '/dev/ttyUSB'+str(i)\n",
    "        cf.ser[stt] = serial.Serial(port,115200)\n",
    "        stt+=1\n",
    "        print(\"Connected to arduino:\", str(i))\n",
    "        if stt ==2:\n",
    "            break\n",
    "    except:\n",
    "        pass\n",
    "t = time.time()\n",
    "cf.message =\"\"\n",
    "\n",
    "cf.wait = True\n",
    "def check():\n",
    "    print(\"check_begin!\")\n",
    "    while cf.wait:\n",
    "        try:\n",
    "            cf.message = str(cf.ser[0].readline().decode())[:3]\n",
    "            #print(cf.message)\n",
    "            if cf.message == \"UNO\" or cf.message == \"LED\":\n",
    "                break\n",
    "        except:\n",
    "            pass\n",
    "check_threading = threading.Thread(target=check)\n",
    "check_threading.start()\n",
    "time.sleep(2)\n",
    "for i in range(10):\n",
    "    _  = cf.ser[0].write(\"WHO /\".encode())\n",
    "    time.sleep(0.2)\n",
    "time.sleep(0.3)\n",
    "cf.wait = False\n",
    "if cf.message[0:3] == \"UNO\":\n",
    "    cf.uno = cf.ser[0]\n",
    "    cf.mega = cf.ser[1]\n",
    "else:\n",
    "    cf.uno = cf.ser[1]\n",
    "    cf.mega = cf.ser[0]"
   ]
  },
  {
   "cell_type": "code",
   "execution_count": 7,
   "metadata": {},
   "outputs": [
    {
     "name": "stdout",
     "output_type": "stream",
     "text": [
      "LEDs 240 208 233 209 338 253 180 184 178 126 157 128 141 129 149 98 153 156 148 163 195 189 184 176 218 220 190 119 172 178 159 105 147 191 164 157\r\n",
      "\n"
     ]
    }
   ],
   "source": [
    "while True:\n",
    "    try:\n",
    "        m = cf.mega.readline().decode()\n",
    "        print(m)\n",
    "        break\n",
    "    except:\n",
    "        time.sleep(0.1)"
   ]
  }
 ],
 "metadata": {
  "kernelspec": {
   "display_name": "Python 3",
   "language": "python",
   "name": "python3"
  },
  "language_info": {
   "codemirror_mode": {
    "name": "ipython",
    "version": 3
   },
   "file_extension": ".py",
   "mimetype": "text/x-python",
   "name": "python",
   "nbconvert_exporter": "python",
   "pygments_lexer": "ipython3",
   "version": "3.7.3"
  }
 },
 "nbformat": 4,
 "nbformat_minor": 2
}
