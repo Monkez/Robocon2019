{
 "cells": [
  {
   "cell_type": "code",
   "execution_count": null,
   "metadata": {},
   "outputs": [],
   "source": [
    "import RPi.GPIO as GPIO\n",
    "import time\n",
    "GPIO.setmode(GPIO.BOARD)\n",
    "trig = 12\n",
    "echo = 16\n",
    "GPIO.setup(trig, GPIO.OUT)\n",
    "GPIO.setup(echo, GPIO.IN)\n",
    "\n",
    "def distance():\n",
    "    GPIO.output(trig, True)\n",
    "    time.sleep(0.00001)\n",
    "    GPIO.output(trig, False)\n",
    "    tik = time.time()\n",
    "    tok = time.time()\n",
    "    \n",
    "    while GPIO.input(echo)==0:\n",
    "        tik = time.time()\n",
    "    while GPIO.input(echo)==1:\n",
    "        tok = time.time()\n",
    "        \n",
    "    distance = (tok-tik)*34300/2\n",
    "    return distance\n",
    "\n",
    "distance()"
   ]
  },
  {
   "cell_type": "code",
   "execution_count": null,
   "metadata": {},
   "outputs": [],
   "source": []
  },
  {
   "cell_type": "code",
   "execution_count": null,
   "metadata": {},
   "outputs": [],
   "source": []
  }
 ],
 "metadata": {
  "kernelspec": {
   "display_name": "Python 3",
   "language": "python",
   "name": "python3"
  },
  "language_info": {
   "codemirror_mode": {
    "name": "ipython",
    "version": 3
   },
   "file_extension": ".py",
   "mimetype": "text/x-python",
   "name": "python",
   "nbconvert_exporter": "python",
   "pygments_lexer": "ipython3",
   "version": "3.7.3"
  }
 },
 "nbformat": 4,
 "nbformat_minor": 2
}
