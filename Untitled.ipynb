{
 "cells": [
  {
   "cell_type": "code",
   "execution_count": null,
   "metadata": {},
   "outputs": [],
   "source": [
    "import RPi.GPIO as GPIO\n",
    "GPIO.setmode(GPIO.BOARD)\n",
    "GPIO.setup(29, GPIO.IN)"
   ]
  },
  {
   "cell_type": "code",
   "execution_count": null,
   "metadata": {},
   "outputs": [],
   "source": [
    "command = (\"pause\", 0)"
   ]
  },
  {
   "cell_type": "code",
   "execution_count": null,
   "metadata": {},
   "outputs": [],
   "source": [
    "import RPi.GPIO as GPIO\n",
    "import time\n",
    "GPIO.setmode(GPIO.BOARD)\n",
    "STEP = [22, 18, 16]\n",
    "GPIO.setup(STEP, GPIO.OUT)\n",
    "\n",
    "CTHTs = [31, 29, 33, 35, 37]\n",
    "GPIO.setup(CTHTs, GPIO.IN)\n"
   ]
  },
  {
   "cell_type": "code",
   "execution_count": null,
   "metadata": {},
   "outputs": [],
   "source": [
    "x1, x2, x3, x4, x5 = GPIO.input(CTHTs[0]), GPIO.input(CTHTs[1]), GPIO.input(CTHTs[2]), GPIO.input(CTHTs[3]), GPIO.input(CTHTs[4])\n",
    "print(x1, x2, x3, x4, x5)"
   ]
  },
  {
   "cell_type": "code",
   "execution_count": null,
   "metadata": {},
   "outputs": [],
   "source": [
    "GPIO.output(STEP[0], GPIO.HIGH)"
   ]
  },
  {
   "cell_type": "code",
   "execution_count": null,
   "metadata": {},
   "outputs": [],
   "source": [
    "CTHT_value1 = 1\n",
    "CTHT_value2 = 1\n",
    "\n",
    "speed = 5\n",
    "delta = 1/(400*speed)\n",
    "print(delta)\n",
    "GPIO.output(STEP[2], GPIO.LOW)\n",
    "GPIO.output(STEP[0], GPIO.LOW)\n",
    "t_point = time.time()\n",
    "while CTHT_value1:\n",
    "    GPIO.output(STEP[1], GPIO.HIGH)\n",
    "    time.sleep(delta)\n",
    "    GPIO.output(STEP[1], GPIO.LOW)\n",
    "    time.sleep(delta)\n",
    "    CTHT_value1 = GPIO.input(CTHTs[0])\n",
    "time.sleep(0.5)\n",
    "t_point = time.time()\n",
    "GPIO.output(STEP[2], GPIO.HIGH)\n",
    "speed = 10\n",
    "delta = 1/(400*speed)\n",
    "print(delta)\n",
    "while CTHT_value2 and  (time.time() -t_point < 1 or  CTHT_value1):\n",
    "    GPIO.output(STEP[1], GPIO.HIGH)\n",
    "    time.sleep(delta)\n",
    "    GPIO.output(STEP[1], GPIO.LOW)\n",
    "    time.sleep(delta)\n",
    "    CTHT_value2 = GPIO.input(CTHTs[1])\n",
    "    CTHT_value1 = GPIO.input(CTHTs[0])\n",
    "GPIO.output(STEP[0], GPIO.HIGH)"
   ]
  },
  {
   "cell_type": "code",
   "execution_count": null,
   "metadata": {},
   "outputs": [],
   "source": [
    "import RPi.GPIO as GPIO\n",
    "GPIO.cleanup()\n",
    "import time\n",
    "GPIO.setmode(GPIO.BOARD)\n",
    "\n",
    "STEP = [22, 18, 16]\n",
    "GPIO.setup(STEP, GPIO.OUT)\n",
    "GPIO.output(STEP[0], GPIO.HIGH)"
   ]
  },
  {
   "cell_type": "code",
   "execution_count": null,
   "metadata": {},
   "outputs": [],
   "source": [
    "GPIO.output(STEP[1], GPIO.LOW)\n",
    "GPIO.output(STEP[2], GPIO.LOW)\n",
    "GPIO.output(STEP[0], GPIO.LOW)"
   ]
  },
  {
   "cell_type": "code",
   "execution_count": null,
   "metadata": {},
   "outputs": [],
   "source": [
    "GPIO.output(STEP[1], GPIO.HIGH)\n",
    "GPIO.output(STEP[2], GPIO.HIGH)\n",
    "GPIO.output(STEP[0], GPIO.HIGH)"
   ]
  },
  {
   "cell_type": "code",
   "execution_count": null,
   "metadata": {},
   "outputs": [],
   "source": [
    "speed = 1\n",
    "MS1 = 1\n",
    "delta = 1/(400*speed*MS1)\n",
    "print(delta)\n",
    "GPIO.output(STEP[0], GPIO.LOW)\n",
    "GPIO.output(STEP[2], GPIO.HIGH)\n",
    "#GPIO.output(STEP[2], GPIO.LOW)\n",
    "#GPIO.output(STEP[0], GPIO.LOW)    \n",
    "for i in range(1000):\n",
    "    GPIO.output(STEP[1], GPIO.HIGH)\n",
    "    time.sleep(delta)\n",
    "    GPIO.output(STEP[1], GPIO.LOW)\n",
    "    time.sleep(delta)\n",
    "    #print(\"hello\")\n",
    "#GPIO.cleanup()"
   ]
  },
  {
   "cell_type": "code",
   "execution_count": null,
   "metadata": {},
   "outputs": [],
   "source": [
    "GPIO.output(STEP[0], GPIO.LOW)"
   ]
  },
  {
   "cell_type": "code",
   "execution_count": null,
   "metadata": {},
   "outputs": [],
   "source": [
    "GPIO.output(STEP[0], GPIO.HIGH)"
   ]
  },
  {
   "cell_type": "code",
   "execution_count": null,
   "metadata": {},
   "outputs": [],
   "source": [
    "GPIO.output(STEP[1], GPIO.LOW)"
   ]
  },
  {
   "cell_type": "code",
   "execution_count": null,
   "metadata": {},
   "outputs": [],
   "source": [
    "import serial\n",
    "import numpy as np\n",
    "ser = serial.Serial('/dev/ttyUSB0',115200)\n",
    "def move(direction, speed):\n",
    "    message = \"MOV\"\n",
    "    for i in direction:\n",
    "        message+= \" \" + str(int(i*speed))\n",
    "    message+= \" /\"\n",
    "    ser.write(message.encode())"
   ]
  },
  {
   "cell_type": "code",
   "execution_count": null,
   "metadata": {},
   "outputs": [],
   "source": [
    "move([0, 0, 0, 0], 100)"
   ]
  }
 ],
 "metadata": {
  "kernelspec": {
   "display_name": "Python 3",
   "language": "python",
   "name": "python3"
  },
  "language_info": {
   "codemirror_mode": {
    "name": "ipython",
    "version": 3
   },
   "file_extension": ".py",
   "mimetype": "text/x-python",
   "name": "python",
   "nbconvert_exporter": "python",
   "pygments_lexer": "ipython3",
   "version": "3.7.3"
  }
 },
 "nbformat": 4,
 "nbformat_minor": 2
}
