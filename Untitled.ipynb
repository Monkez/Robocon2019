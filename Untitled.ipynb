{
 "cells": [
  {
   "cell_type": "code",
   "execution_count": 22,
   "metadata": {},
   "outputs": [],
   "source": [
    "import RPi.GPIO as GPIO\n",
    "import time\n",
    "GPIO.setmode(GPIO.BOARD)\n",
    "STEP = [15, 13, 11]\n",
    "GPIO.setup(STEP, GPIO.OUT)\n",
    "\n",
    "CTHTs = [29, 31, 33, 35, 37]\n",
    "GPIO.setup(CTHTs, GPIO.IN)\n",
    "GPIO.output(STEP[0], GPIO.HIGH)"
   ]
  },
  {
   "cell_type": "code",
   "execution_count": 16,
   "metadata": {},
   "outputs": [],
   "source": [
    "GPIO.output(13, GPIO.LOW)"
   ]
  },
  {
   "cell_type": "code",
   "execution_count": 4,
   "metadata": {},
   "outputs": [
    {
     "name": "stdout",
     "output_type": "stream",
     "text": [
      "0 1 1 1 0\n"
     ]
    }
   ],
   "source": [
    "x1, x2, x3, x4, x5 = GPIO.input(CTHTs[0]), GPIO.input(CTHTs[1]), GPIO.input(CTHTs[2]), GPIO.input(CTHTs[3]), GPIO.input(CTHTs[4])\n",
    "print(x1, x2, x3, x4, x5)"
   ]
  },
  {
   "cell_type": "code",
   "execution_count": 24,
   "metadata": {},
   "outputs": [],
   "source": [
    "GPIO.output(STEP[0], GPIO.LOW)\n",
    "GPIO.output(STEP[2], GPIO.LOW)\n",
    "for i in range(200):\n",
    "    GPIO.output(STEP[1], GPIO.HIGH)\n",
    "    time.sleep(0.02)\n",
    "    GPIO.output(STEP[1], GPIO.LOW)\n",
    "    time.sleep(0.02)"
   ]
  },
  {
   "cell_type": "code",
   "execution_count": 25,
   "metadata": {},
   "outputs": [],
   "source": [
    "GPIO.output(STEP[1], GPIO.HIGH)"
   ]
  },
  {
   "cell_type": "code",
   "execution_count": 20,
   "metadata": {},
   "outputs": [
    {
     "name": "stdout",
     "output_type": "stream",
     "text": [
      "0.005\n"
     ]
    },
    {
     "ename": "KeyboardInterrupt",
     "evalue": "",
     "output_type": "error",
     "traceback": [
      "\u001b[0;31m---------------------------------------------------------------------------\u001b[0m",
      "\u001b[0;31mKeyboardInterrupt\u001b[0m                         Traceback (most recent call last)",
      "\u001b[0;32m<ipython-input-20-fda4c458653d>\u001b[0m in \u001b[0;36m<module>\u001b[0;34m\u001b[0m\n\u001b[1;32m     12\u001b[0m     \u001b[0mtime\u001b[0m\u001b[0;34m.\u001b[0m\u001b[0msleep\u001b[0m\u001b[0;34m(\u001b[0m\u001b[0mdelta\u001b[0m\u001b[0;34m)\u001b[0m\u001b[0;34m\u001b[0m\u001b[0;34m\u001b[0m\u001b[0m\n\u001b[1;32m     13\u001b[0m     \u001b[0mGPIO\u001b[0m\u001b[0;34m.\u001b[0m\u001b[0moutput\u001b[0m\u001b[0;34m(\u001b[0m\u001b[0mSTEP\u001b[0m\u001b[0;34m[\u001b[0m\u001b[0;36m1\u001b[0m\u001b[0;34m]\u001b[0m\u001b[0;34m,\u001b[0m \u001b[0mGPIO\u001b[0m\u001b[0;34m.\u001b[0m\u001b[0mLOW\u001b[0m\u001b[0;34m)\u001b[0m\u001b[0;34m\u001b[0m\u001b[0;34m\u001b[0m\u001b[0m\n\u001b[0;32m---> 14\u001b[0;31m     \u001b[0mtime\u001b[0m\u001b[0;34m.\u001b[0m\u001b[0msleep\u001b[0m\u001b[0;34m(\u001b[0m\u001b[0mdelta\u001b[0m\u001b[0;34m)\u001b[0m\u001b[0;34m\u001b[0m\u001b[0;34m\u001b[0m\u001b[0m\n\u001b[0m\u001b[1;32m     15\u001b[0m     \u001b[0mCTHT_value1\u001b[0m \u001b[0;34m=\u001b[0m \u001b[0mGPIO\u001b[0m\u001b[0;34m.\u001b[0m\u001b[0minput\u001b[0m\u001b[0;34m(\u001b[0m\u001b[0mCTHTs\u001b[0m\u001b[0;34m[\u001b[0m\u001b[0;36m0\u001b[0m\u001b[0;34m]\u001b[0m\u001b[0;34m)\u001b[0m\u001b[0;34m\u001b[0m\u001b[0;34m\u001b[0m\u001b[0m\n\u001b[1;32m     16\u001b[0m \u001b[0mtime\u001b[0m\u001b[0;34m.\u001b[0m\u001b[0msleep\u001b[0m\u001b[0;34m(\u001b[0m\u001b[0;36m0.5\u001b[0m\u001b[0;34m)\u001b[0m\u001b[0;34m\u001b[0m\u001b[0;34m\u001b[0m\u001b[0m\n",
      "\u001b[0;31mKeyboardInterrupt\u001b[0m: "
     ]
    }
   ],
   "source": [
    "CTHT_value1 = 1\n",
    "CTHT_value2 = 1\n",
    "\n",
    "speed = 1\n",
    "delta = 1/(200*speed)\n",
    "print(delta)\n",
    "GPIO.output(STEP[2], GPIO.LOW)\n",
    "GPIO.output(STEP[0], GPIO.LOW)\n",
    "t_point = time.time()\n",
    "for i in range(2000):\n",
    "    GPIO.output(STEP[1], GPIO.HIGH)\n",
    "    time.sleep(delta)\n",
    "    GPIO.output(STEP[1], GPIO.LOW)\n",
    "    time.sleep(delta)\n",
    "    CTHT_value1 = GPIO.input(CTHTs[0])\n",
    "time.sleep(0.5)\n",
    "t_point = time.time()\n",
    "GPIO.output(STEP[2], GPIO.HIGH)\n",
    "speed = 10\n",
    "delta = 1/(400*speed)\n",
    "print(delta)\n",
    "while CTHT_value2 and  (time.time() -t_point < 1 or  CTHT_value1):\n",
    "    GPIO.output(STEP[1], GPIO.HIGH)\n",
    "    time.sleep(delta)\n",
    "    GPIO.output(STEP[1], GPIO.LOW)\n",
    "    time.sleep(delta)\n",
    "    CTHT_value2 = GPIO.input(CTHTs[1])\n",
    "    CTHT_value1 = GPIO.input(CTHTs[0])\n",
    "GPIO.output(STEP[0], GPIO.HIGH)"
   ]
  },
  {
   "cell_type": "code",
   "execution_count": null,
   "metadata": {},
   "outputs": [],
   "source": [
    "import RPi.GPIO as GPIO\n",
    "GPIO.cleanup()\n",
    "import time\n",
    "GPIO.setmode(GPIO.BOARD)\n",
    "\n",
    "STEP = [22, 18, 16]\n",
    "GPIO.setup(STEP, GPIO.OUT)\n",
    "GPIO.output(STEP[0], GPIO.HIGH)"
   ]
  },
  {
   "cell_type": "code",
   "execution_count": null,
   "metadata": {},
   "outputs": [],
   "source": [
    "GPIO.output(STEP[1], GPIO.LOW)\n",
    "GPIO.output(STEP[2], GPIO.LOW)\n",
    "GPIO.output(STEP[0], GPIO.LOW)"
   ]
  },
  {
   "cell_type": "code",
   "execution_count": null,
   "metadata": {},
   "outputs": [],
   "source": [
    "GPIO.output(STEP[1], GPIO.HIGH)\n",
    "GPIO.output(STEP[2], GPIO.HIGH)\n",
    "GPIO.output(STEP[0], GPIO.HIGH)"
   ]
  },
  {
   "cell_type": "code",
   "execution_count": null,
   "metadata": {},
   "outputs": [],
   "source": [
    "speed = 1\n",
    "MS1 = 1\n",
    "delta = 1/(400*speed*MS1)\n",
    "print(delta)\n",
    "GPIO.output(STEP[0], GPIO.LOW)\n",
    "GPIO.output(STEP[2], GPIO.HIGH)\n",
    "#GPIO.output(STEP[2], GPIO.LOW)\n",
    "#GPIO.output(STEP[0], GPIO.LOW)    \n",
    "for i in range(1000):\n",
    "    GPIO.output(STEP[1], GPIO.HIGH)\n",
    "    time.sleep(delta)\n",
    "    GPIO.output(STEP[1], GPIO.LOW)\n",
    "    time.sleep(delta)\n",
    "    #print(\"hello\")\n",
    "#GPIO.cleanup()"
   ]
  },
  {
   "cell_type": "code",
   "execution_count": null,
   "metadata": {},
   "outputs": [],
   "source": [
    "GPIO.output(STEP[0], GPIO.LOW)"
   ]
  },
  {
   "cell_type": "code",
   "execution_count": null,
   "metadata": {},
   "outputs": [],
   "source": [
    "GPIO.output(STEP[0], GPIO.HIGH)"
   ]
  },
  {
   "cell_type": "code",
   "execution_count": null,
   "metadata": {},
   "outputs": [],
   "source": [
    "GPIO.output(STEP[1], GPIO.LOW)"
   ]
  },
  {
   "cell_type": "code",
   "execution_count": null,
   "metadata": {},
   "outputs": [],
   "source": [
    "import serial\n",
    "import numpy as np\n",
    "ser = serial.Serial('/dev/ttyUSB1',115200)\n",
    "def move(direction, speed):\n",
    "    message = \"MOV\"\n",
    "    for i in direction:\n",
    "        message+= \" \" + str(int(i*speed))\n",
    "    message+= \" /\"\n",
    "    ser.write(message.encode())"
   ]
  },
  {
   "cell_type": "code",
   "execution_count": null,
   "metadata": {},
   "outputs": [],
   "source": [
    "move([1, 0, 0, 0], 100)"
   ]
  },
  {
   "cell_type": "code",
   "execution_count": null,
   "metadata": {},
   "outputs": [],
   "source": [
    "move([0, 1, 0, 0], 100)"
   ]
  },
  {
   "cell_type": "code",
   "execution_count": null,
   "metadata": {},
   "outputs": [],
   "source": [
    "move([0, 0, 1, 0], 100)"
   ]
  },
  {
   "cell_type": "code",
   "execution_count": null,
   "metadata": {},
   "outputs": [],
   "source": [
    "move([0, 0, 0, 1], 100)"
   ]
  },
  {
   "cell_type": "code",
   "execution_count": null,
   "metadata": {},
   "outputs": [],
   "source": []
  }
 ],
 "metadata": {
  "kernelspec": {
   "display_name": "Python 3",
   "language": "python",
   "name": "python3"
  },
  "language_info": {
   "codemirror_mode": {
    "name": "ipython",
    "version": 3
   },
   "file_extension": ".py",
   "mimetype": "text/x-python",
   "name": "python",
   "nbconvert_exporter": "python",
   "pygments_lexer": "ipython3",
   "version": "3.7.3"
  }
 },
 "nbformat": 4,
 "nbformat_minor": 2
}
